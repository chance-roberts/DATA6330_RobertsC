{
 "cells": [
  {
   "cell_type": "code",
   "execution_count": null,
   "metadata": {},
   "outputs": [
    {
     "name": "stdout",
     "output_type": "stream",
     "text": [
      "Defaulting to user installation because normal site-packages is not writeable\n",
      "Collecting sodapy\n",
      "  Downloading sodapy-2.2.0-py2.py3-none-any.whl.metadata (15 kB)\n",
      "Requirement already satisfied: requests>=2.28.1 in c:\\users\\chanc\\appdata\\roaming\\python\\python311\\site-packages (from sodapy) (2.31.0)\n",
      "Requirement already satisfied: charset-normalizer<4,>=2 in c:\\programdata\\anaconda3\\lib\\site-packages (from requests>=2.28.1->sodapy) (3.3.2)\n",
      "Requirement already satisfied: idna<4,>=2.5 in c:\\programdata\\anaconda3\\lib\\site-packages (from requests>=2.28.1->sodapy) (3.7)\n",
      "Requirement already satisfied: urllib3<3,>=1.21.1 in c:\\programdata\\anaconda3\\lib\\site-packages (from requests>=2.28.1->sodapy) (2.2.2)\n",
      "Requirement already satisfied: certifi>=2017.4.17 in c:\\programdata\\anaconda3\\lib\\site-packages (from requests>=2.28.1->sodapy) (2024.7.4)\n",
      "Downloading sodapy-2.2.0-py2.py3-none-any.whl (15 kB)\n",
      "Installing collected packages: sodapy\n",
      "Successfully installed sodapy-2.2.0\n"
     ]
    }
   ],
   "source": [
    "#Install sodapy\n",
    "#!pip install sodapy\n"
   ]
  },
  {
   "cell_type": "code",
   "execution_count": 15,
   "metadata": {},
   "outputs": [],
   "source": [
    "#Import relevant packages\n",
    "import pandas as pd\n",
    "from sodapy import Socrata\n",
    "import geopandas as gpd\n",
    "import shapely\n",
    "import matplotlib.pyplot as plt\n"
   ]
  },
  {
   "cell_type": "code",
   "execution_count": 5,
   "metadata": {},
   "outputs": [
    {
     "name": "stderr",
     "output_type": "stream",
     "text": [
      "WARNING:root:Requests made without an app_token will be subject to strict throttling limits.\n"
     ]
    }
   ],
   "source": [
    "client = Socrata(\"data.cityofchicago.org\", None)\n",
    "results = client.get(\"pnau-cf66\", limit=2000)\n",
    "results_df = pd.DataFrame.from_records(results)\n"
   ]
  },
  {
   "cell_type": "code",
   "execution_count": 6,
   "metadata": {},
   "outputs": [
    {
     "data": {
      "application/vnd.microsoft.datawrangler.viewer.v0+json": {
       "columns": [
        {
         "name": "index",
         "rawType": "int64",
         "type": "integer"
        },
        {
         "name": "link",
         "rawType": "object",
         "type": "unknown"
        },
        {
         "name": "description",
         "rawType": "object",
         "type": "string"
        }
       ],
       "conversionMethod": "pd.DataFrame",
       "ref": "0a93ea39-3869-4b5c-9574-9314ac5abc5a",
       "rows": [
        [
         "0",
         "{'url': 'https://data.cityofchicago.org/Transportation/CTA-Bus-Garages-kml/umz2-yzkw', 'description': 'KML - Bus Garage Locations'}",
         "Point data representing bus garage and facilities maintenance locations. To view or use these files, special GIS software, such as Google Earth, is required."
        ],
        [
         "1",
         "{'url': 'https://data.cityofchicago.org/Transportation/CTA-Bus-Routes-kml/rytz-fq6y', 'description': 'KML - Bus Routes'}",
         "Line data representing CTA bus routes. To view or use these files, special GIS software, such as Google Earth, is required."
        ],
        [
         "2",
         "{'url': 'https://data.cityofchicago.org/Transportation/CTA-Bus-Stops-kml/84eu-buny', 'description': 'KML - Bus Stops'}",
         "Point data representing over 11,000 CTA bus stops. The Stop ID is used to get Bus Tracker information. Current stops (coded as 1 in status field), Flag Stops – status 2, and stops both Temporarily in Service (Status 5) or Out of service (Status 6) are included. To view or use these files, special GIS software, such as Google Earth, is required."
        ],
        [
         "3",
         "{'url': 'https://data.cityofchicago.org/Transportation/CTA-Bus-Turnaround-kml/r2fz-72yy', 'description': 'KML - Bus Turnarounds'}",
         "Point data representing locations of all bus turnarounds, including those that are not located at rail stations. To view or use these files, special GIS software, such as Google Earth, is required."
        ],
        [
         "4",
         "{'url': 'http://data.cityofchicago.org/dataset/CTA-KML-Fare-Media-Sales-Locations/uwhj-p95a', 'description': 'KML - Fare Media Sales Locations'}",
         "Point data representing sites that sell/vend CTA Fare Media. Details include location type (ex. rail station, store) type of media sold (ex. Visitor Pass, Chicago Card) and for many locations the form of payment accepted."
        ],
        [
         "5",
         "{'url': 'https://data.cityofchicago.org/Transportation/CTA-L-Rail-Lines-kml/sgbp-qafc', 'description': \"KML - 'L' (Rail) Lines\"}",
         "Lines representing approximately where the CTA 'L' (rail) lines are. To view or use these files, special GIS software, such as Google Earth, is required."
        ],
        [
         "6",
         "{'url': 'https://data.cityofchicago.org/Transportation/CTA-L-Rail-Stations-kml/4qtv-9w43', 'description': \"KML - 'L' (Rail) Stations\"}",
         "Points representing CTA Rail Stations. To view or use these files, special GIS software, such as Google Earth, is required. (Note: Station locations are based on the facility, and are not necessarily where an entrance to station would be.)"
        ],
        [
         "7",
         "{'url': 'https://data.cityofchicago.org/Transportation/CTA-Park-and-Ride-kml/2cys-9ux7', 'description': 'KML - Park & Ride Locations'}",
         "Point data representing CTA park and ride locations. Details include number of spaces, cost, and rail station. To view or use these files, special GIS software, such as Google Earth, is required."
        ],
        [
         "8",
         "{'url': 'http://data.cityofchicago.org/dataset/CTA-Ridership-Annual-Totals/w8km-9pzd', 'description': 'Ridership - Annual Boarding Totals'}",
         "This dataset gives annual ridership totals dating to the mid-1980s. Numbers are presented in boardings (see attached readme file for information on how these numbers are calculated)."
        ],
        [
         "9",
         "{'url': 'http://data.cityofchicago.org/dataset/CTA-Ridership-Bus-Routes-Daily-Totals-by-Route/jyb9-n7fm', 'description': 'Ridership - Bus Routes - Daily Totals by Route'}",
         "This dataset shows total daily ridership on a per-route basis dating back to 2001. Daytypes are as follows: W=Weekday, A=Saturday, U=Sunday/Holiday. See attached readme file for more detailed information."
        ],
        [
         "10",
         "{'url': 'http://data.cityofchicago.org/dataset/CTA-Ridership-Bus-Routes-Monthly-Day-Type-Averages/bynn-gwxy', 'description': 'Ridership - Bus Routes - Monthly Day-Type Averages & Totals'}",
         "This dataset shows monthly averages, by day type (weekday, Saturday or Sunday/Holiday) and monthly totals for all CTA bus routes, back to 2001. See attached readme file for information on how these numbers are calculated."
        ],
        [
         "11",
         "{'url': 'http://data.cityofchicago.org/dataset/CTA-Ridership-Bus-Stop-Boardings-in-September-2010/mq3i-nnqe', 'description': 'Ridership - Bus Stop Boardings (October 2012)'}",
         "This dataset shows approximate boardings by bus stop from the month of October 2012."
        ],
        [
         "12",
         "{'url': 'http://data.cityofchicago.org/dataset/CTA-Ridership-Daily-Boarding-Totals/6iiy-9s97', 'description': 'Ridership - Daily Boarding Totals'}",
         "This dataset shows systemwide boardings for both bus and rail services provided by CTA. Daytypes are as follows: W = Weekday, A = Saturday, U = Sunday/Holiday. See attached readme file for information on how these numbers are calculated."
        ],
        [
         "13",
         "{'url': 'http://data.cityofchicago.org/dataset/CTA-Ridership-L-Stations-Daily-Totals/5neh-572f', 'description': \"Ridership - 'L' Station Entries - Daily Totals\"}",
         "This list shows daily totals of ridership, by station entry, for each 'L' station dating back to 2001. Dataset shows entries at all turnstiles, combined, for each station. Daytypes are as follows: W=Weekday, A=Saturday, U=Sunday/Holiday. See attached readme file for information on how these numbers are calculated."
        ],
        [
         "14",
         "{'url': 'http://data.cityofchicago.org/dataset/CTA-Ridership-L-Stations-Monthly-Day-Type-Averages/t2rn-p8d7', 'description': \"Ridership - 'L' Station Entries - Monthly Day-Type Averages & Totals\"}",
         "This dataset lists monthly station entry averages, by day type (Weekday, Saturday or Sunday/Holiday), as well as monthly totals, beginning in 2001. Note that some stations (such as on the Cermak Branch--now Pink Line) and Skokie did not have Saturday and/or Sunday/holiday service until more recent years, although, in cases where weekday service ran past midnight, late evening fares may appear as part of Saturday tallies."
        ],
        [
         "15",
         "{'url': 'http://data.cityofchicago.org/dataset/CTA-System-Information-Developer-Tool-Bus-Tracker-/cbr6-47jj', 'description': 'System Information - Developer Tool: Bus Tracker API'}",
         "Data feeds which provide a pathway for developers to retrieve estimated arrival times, bus stop lists, route patterns, vehicle location information and more from the CTA Bus Tracker (SM) service and incorporate it into third-party apps and projects."
        ],
        [
         "16",
         "{'url': 'http://data.cityofchicago.org/dataset/CTA-System-Information-Developer-Tool-Customer-Ale/9eh7-quct', 'description': 'System Information - Developer Tool: Customer Alerts APIs'}",
         "These feeds of information help developers to get the latest information about planned and unplanned events that affect CTA services."
        ],
        [
         "17",
         "{'url': 'http://data.cityofchicago.org/dataset/CTA-System-Information-Developer-Tool-GTFS-Data/sp6w-yusg', 'description': 'System Information - Developer Tool: GTFS Data'}",
         "eneral Transit Feed Specification (formerly \"Google Transit Feed Specification\") data package for CTA system, including stops, route patterns and full service schedule."
        ],
        [
         "18",
         "{'url': 'http://data.cityofchicago.org/dataset/CTA-System-Information-Developer-Tool-Train-Tracke/m538-a3va', 'description': 'System Information - Developer Tool: Train Tracker API (beta)'}",
         "Data feed that provides a pathway for developers to retrieve estimated arrival times from the CTA Train Tracker (SM) service and incorporate it into third-party apps and projects."
        ],
        [
         "19",
         "{'url': 'http://data.cityofchicago.org/dataset/CTA-System-Information-List-of-L-Stops/8pix-ypme', 'description': \"System Information - List of 'L' Stops\"}",
         "This list of 'L' stops provides location and basic service availability information for each place on the CTA system where a train stops, along with formal station names and stop descriptions."
        ]
       ],
       "shape": {
        "columns": 2,
        "rows": 20
       }
      },
      "text/html": [
       "<div>\n",
       "<style scoped>\n",
       "    .dataframe tbody tr th:only-of-type {\n",
       "        vertical-align: middle;\n",
       "    }\n",
       "\n",
       "    .dataframe tbody tr th {\n",
       "        vertical-align: top;\n",
       "    }\n",
       "\n",
       "    .dataframe thead th {\n",
       "        text-align: right;\n",
       "    }\n",
       "</style>\n",
       "<table border=\"1\" class=\"dataframe\">\n",
       "  <thead>\n",
       "    <tr style=\"text-align: right;\">\n",
       "      <th></th>\n",
       "      <th>link</th>\n",
       "      <th>description</th>\n",
       "    </tr>\n",
       "  </thead>\n",
       "  <tbody>\n",
       "    <tr>\n",
       "      <th>0</th>\n",
       "      <td>{'url': 'https://data.cityofchicago.org/Transp...</td>\n",
       "      <td>Point data representing bus garage and facilit...</td>\n",
       "    </tr>\n",
       "    <tr>\n",
       "      <th>1</th>\n",
       "      <td>{'url': 'https://data.cityofchicago.org/Transp...</td>\n",
       "      <td>Line data representing CTA bus routes. To view...</td>\n",
       "    </tr>\n",
       "    <tr>\n",
       "      <th>2</th>\n",
       "      <td>{'url': 'https://data.cityofchicago.org/Transp...</td>\n",
       "      <td>Point data representing over 11,000 CTA bus st...</td>\n",
       "    </tr>\n",
       "    <tr>\n",
       "      <th>3</th>\n",
       "      <td>{'url': 'https://data.cityofchicago.org/Transp...</td>\n",
       "      <td>Point data representing locations of all bus t...</td>\n",
       "    </tr>\n",
       "    <tr>\n",
       "      <th>4</th>\n",
       "      <td>{'url': 'http://data.cityofchicago.org/dataset...</td>\n",
       "      <td>Point data representing sites that sell/vend C...</td>\n",
       "    </tr>\n",
       "    <tr>\n",
       "      <th>5</th>\n",
       "      <td>{'url': 'https://data.cityofchicago.org/Transp...</td>\n",
       "      <td>Lines representing approximately where the CTA...</td>\n",
       "    </tr>\n",
       "    <tr>\n",
       "      <th>6</th>\n",
       "      <td>{'url': 'https://data.cityofchicago.org/Transp...</td>\n",
       "      <td>Points representing CTA Rail Stations. To view...</td>\n",
       "    </tr>\n",
       "    <tr>\n",
       "      <th>7</th>\n",
       "      <td>{'url': 'https://data.cityofchicago.org/Transp...</td>\n",
       "      <td>Point data representing CTA park and ride loca...</td>\n",
       "    </tr>\n",
       "    <tr>\n",
       "      <th>8</th>\n",
       "      <td>{'url': 'http://data.cityofchicago.org/dataset...</td>\n",
       "      <td>This dataset gives annual ridership totals dat...</td>\n",
       "    </tr>\n",
       "    <tr>\n",
       "      <th>9</th>\n",
       "      <td>{'url': 'http://data.cityofchicago.org/dataset...</td>\n",
       "      <td>This dataset shows total daily ridership on a ...</td>\n",
       "    </tr>\n",
       "    <tr>\n",
       "      <th>10</th>\n",
       "      <td>{'url': 'http://data.cityofchicago.org/dataset...</td>\n",
       "      <td>This dataset shows monthly averages, by day ty...</td>\n",
       "    </tr>\n",
       "    <tr>\n",
       "      <th>11</th>\n",
       "      <td>{'url': 'http://data.cityofchicago.org/dataset...</td>\n",
       "      <td>This dataset shows approximate boardings by bu...</td>\n",
       "    </tr>\n",
       "    <tr>\n",
       "      <th>12</th>\n",
       "      <td>{'url': 'http://data.cityofchicago.org/dataset...</td>\n",
       "      <td>This dataset shows systemwide boardings for bo...</td>\n",
       "    </tr>\n",
       "    <tr>\n",
       "      <th>13</th>\n",
       "      <td>{'url': 'http://data.cityofchicago.org/dataset...</td>\n",
       "      <td>This list shows daily totals of ridership, by ...</td>\n",
       "    </tr>\n",
       "    <tr>\n",
       "      <th>14</th>\n",
       "      <td>{'url': 'http://data.cityofchicago.org/dataset...</td>\n",
       "      <td>This dataset lists monthly station entry avera...</td>\n",
       "    </tr>\n",
       "    <tr>\n",
       "      <th>15</th>\n",
       "      <td>{'url': 'http://data.cityofchicago.org/dataset...</td>\n",
       "      <td>Data feeds which provide a pathway for develop...</td>\n",
       "    </tr>\n",
       "    <tr>\n",
       "      <th>16</th>\n",
       "      <td>{'url': 'http://data.cityofchicago.org/dataset...</td>\n",
       "      <td>These feeds of information help developers to ...</td>\n",
       "    </tr>\n",
       "    <tr>\n",
       "      <th>17</th>\n",
       "      <td>{'url': 'http://data.cityofchicago.org/dataset...</td>\n",
       "      <td>eneral Transit Feed Specification (formerly \"G...</td>\n",
       "    </tr>\n",
       "    <tr>\n",
       "      <th>18</th>\n",
       "      <td>{'url': 'http://data.cityofchicago.org/dataset...</td>\n",
       "      <td>Data feed that provides a pathway for develope...</td>\n",
       "    </tr>\n",
       "    <tr>\n",
       "      <th>19</th>\n",
       "      <td>{'url': 'http://data.cityofchicago.org/dataset...</td>\n",
       "      <td>This list of 'L' stops provides location and b...</td>\n",
       "    </tr>\n",
       "  </tbody>\n",
       "</table>\n",
       "</div>"
      ],
      "text/plain": [
       "                                                 link  \\\n",
       "0   {'url': 'https://data.cityofchicago.org/Transp...   \n",
       "1   {'url': 'https://data.cityofchicago.org/Transp...   \n",
       "2   {'url': 'https://data.cityofchicago.org/Transp...   \n",
       "3   {'url': 'https://data.cityofchicago.org/Transp...   \n",
       "4   {'url': 'http://data.cityofchicago.org/dataset...   \n",
       "5   {'url': 'https://data.cityofchicago.org/Transp...   \n",
       "6   {'url': 'https://data.cityofchicago.org/Transp...   \n",
       "7   {'url': 'https://data.cityofchicago.org/Transp...   \n",
       "8   {'url': 'http://data.cityofchicago.org/dataset...   \n",
       "9   {'url': 'http://data.cityofchicago.org/dataset...   \n",
       "10  {'url': 'http://data.cityofchicago.org/dataset...   \n",
       "11  {'url': 'http://data.cityofchicago.org/dataset...   \n",
       "12  {'url': 'http://data.cityofchicago.org/dataset...   \n",
       "13  {'url': 'http://data.cityofchicago.org/dataset...   \n",
       "14  {'url': 'http://data.cityofchicago.org/dataset...   \n",
       "15  {'url': 'http://data.cityofchicago.org/dataset...   \n",
       "16  {'url': 'http://data.cityofchicago.org/dataset...   \n",
       "17  {'url': 'http://data.cityofchicago.org/dataset...   \n",
       "18  {'url': 'http://data.cityofchicago.org/dataset...   \n",
       "19  {'url': 'http://data.cityofchicago.org/dataset...   \n",
       "\n",
       "                                          description  \n",
       "0   Point data representing bus garage and facilit...  \n",
       "1   Line data representing CTA bus routes. To view...  \n",
       "2   Point data representing over 11,000 CTA bus st...  \n",
       "3   Point data representing locations of all bus t...  \n",
       "4   Point data representing sites that sell/vend C...  \n",
       "5   Lines representing approximately where the CTA...  \n",
       "6   Points representing CTA Rail Stations. To view...  \n",
       "7   Point data representing CTA park and ride loca...  \n",
       "8   This dataset gives annual ridership totals dat...  \n",
       "9   This dataset shows total daily ridership on a ...  \n",
       "10  This dataset shows monthly averages, by day ty...  \n",
       "11  This dataset shows approximate boardings by bu...  \n",
       "12  This dataset shows systemwide boardings for bo...  \n",
       "13  This list shows daily totals of ridership, by ...  \n",
       "14  This dataset lists monthly station entry avera...  \n",
       "15  Data feeds which provide a pathway for develop...  \n",
       "16  These feeds of information help developers to ...  \n",
       "17  eneral Transit Feed Specification (formerly \"G...  \n",
       "18  Data feed that provides a pathway for develope...  \n",
       "19  This list of 'L' stops provides location and b...  "
      ]
     },
     "execution_count": 6,
     "metadata": {},
     "output_type": "execute_result"
    }
   ],
   "source": [
    "results_df"
   ]
  },
  {
   "cell_type": "code",
   "execution_count": 13,
   "metadata": {},
   "outputs": [],
   "source": [
    "\n",
    "bus_stops_df = gpd.read_file(\"https://data.cityofchicago.org/resource/6uva-a5ei.geojson\")"
   ]
  },
  {
   "cell_type": "code",
   "execution_count": 14,
   "metadata": {},
   "outputs": [
    {
     "data": {
      "text/html": [
       "<div>\n",
       "<style scoped>\n",
       "    .dataframe tbody tr th:only-of-type {\n",
       "        vertical-align: middle;\n",
       "    }\n",
       "\n",
       "    .dataframe tbody tr th {\n",
       "        vertical-align: top;\n",
       "    }\n",
       "\n",
       "    .dataframe thead th {\n",
       "        text-align: right;\n",
       "    }\n",
       "</style>\n",
       "<table border=\"1\" class=\"dataframe\">\n",
       "  <thead>\n",
       "    <tr style=\"text-align: right;\">\n",
       "      <th></th>\n",
       "      <th>name</th>\n",
       "      <th>sun</th>\n",
       "      <th>wkday</th>\n",
       "      <th>route</th>\n",
       "      <th>sat</th>\n",
       "      <th>geometry</th>\n",
       "    </tr>\n",
       "  </thead>\n",
       "  <tbody>\n",
       "    <tr>\n",
       "      <th>0</th>\n",
       "      <td>ROOSEVELT</td>\n",
       "      <td>True</td>\n",
       "      <td>True</td>\n",
       "      <td>12</td>\n",
       "      <td>True</td>\n",
       "      <td>MULTILINESTRING ((-87.64791 41.86713, -87.6474...</td>\n",
       "    </tr>\n",
       "    <tr>\n",
       "      <th>1</th>\n",
       "      <td>UNION/STREETERVILLE EXPRESS</td>\n",
       "      <td>False</td>\n",
       "      <td>True</td>\n",
       "      <td>121</td>\n",
       "      <td>False</td>\n",
       "      <td>MULTILINESTRING ((-87.62450 41.88833, -87.6249...</td>\n",
       "    </tr>\n",
       "    <tr>\n",
       "      <th>2</th>\n",
       "      <td>BRONZEVILLE/UNION STATION</td>\n",
       "      <td>False</td>\n",
       "      <td>True</td>\n",
       "      <td>1</td>\n",
       "      <td>False</td>\n",
       "      <td>MULTILINESTRING ((-87.62326 41.83103, -87.6232...</td>\n",
       "    </tr>\n",
       "    <tr>\n",
       "      <th>3</th>\n",
       "      <td>HALSTED/95TH</td>\n",
       "      <td>False</td>\n",
       "      <td>True</td>\n",
       "      <td>108</td>\n",
       "      <td>False</td>\n",
       "      <td>MULTILINESTRING ((-87.59053 41.65577, -87.5906...</td>\n",
       "    </tr>\n",
       "    <tr>\n",
       "      <th>4</th>\n",
       "      <td>LINCOLN</td>\n",
       "      <td>True</td>\n",
       "      <td>True</td>\n",
       "      <td>11</td>\n",
       "      <td>True</td>\n",
       "      <td>MULTILINESTRING ((-87.68883 41.96676, -87.6888...</td>\n",
       "    </tr>\n",
       "    <tr>\n",
       "      <th>...</th>\n",
       "      <td>...</td>\n",
       "      <td>...</td>\n",
       "      <td>...</td>\n",
       "      <td>...</td>\n",
       "      <td>...</td>\n",
       "      <td>...</td>\n",
       "    </tr>\n",
       "    <tr>\n",
       "      <th>122</th>\n",
       "      <td>OGILVIE/STREETERVILLE EXPRESS</td>\n",
       "      <td>False</td>\n",
       "      <td>True</td>\n",
       "      <td>120</td>\n",
       "      <td>False</td>\n",
       "      <td>MULTILINESTRING ((-87.62450 41.88833, -87.6249...</td>\n",
       "    </tr>\n",
       "    <tr>\n",
       "      <th>123</th>\n",
       "      <td>JACKSON</td>\n",
       "      <td>True</td>\n",
       "      <td>True</td>\n",
       "      <td>126</td>\n",
       "      <td>True</td>\n",
       "      <td>MULTILINESTRING ((-87.77390 41.87647, -87.7739...</td>\n",
       "    </tr>\n",
       "    <tr>\n",
       "      <th>124</th>\n",
       "      <td>MADISON</td>\n",
       "      <td>True</td>\n",
       "      <td>True</td>\n",
       "      <td>20</td>\n",
       "      <td>True</td>\n",
       "      <td>MULTILINESTRING ((-87.77391 41.88008, -87.7731...</td>\n",
       "    </tr>\n",
       "    <tr>\n",
       "      <th>125</th>\n",
       "      <td>SOLDIER FIELD EXPRESS</td>\n",
       "      <td>False</td>\n",
       "      <td>False</td>\n",
       "      <td>128</td>\n",
       "      <td>False</td>\n",
       "      <td>MULTILINESTRING ((-87.61699 41.86502, -87.6153...</td>\n",
       "    </tr>\n",
       "    <tr>\n",
       "      <th>126</th>\n",
       "      <td>NAVY PIER</td>\n",
       "      <td>True</td>\n",
       "      <td>True</td>\n",
       "      <td>124</td>\n",
       "      <td>True</td>\n",
       "      <td>MULTILINESTRING ((-87.63969 41.88187, -87.6411...</td>\n",
       "    </tr>\n",
       "  </tbody>\n",
       "</table>\n",
       "<p>127 rows × 6 columns</p>\n",
       "</div>"
      ],
      "text/plain": [
       "                              name    sun  wkday route    sat  \\\n",
       "0                        ROOSEVELT   True   True    12   True   \n",
       "1      UNION/STREETERVILLE EXPRESS  False   True   121  False   \n",
       "2        BRONZEVILLE/UNION STATION  False   True     1  False   \n",
       "3                     HALSTED/95TH  False   True   108  False   \n",
       "4                          LINCOLN   True   True    11   True   \n",
       "..                             ...    ...    ...   ...    ...   \n",
       "122  OGILVIE/STREETERVILLE EXPRESS  False   True   120  False   \n",
       "123                        JACKSON   True   True   126   True   \n",
       "124                        MADISON   True   True    20   True   \n",
       "125          SOLDIER FIELD EXPRESS  False  False   128  False   \n",
       "126                      NAVY PIER   True   True   124   True   \n",
       "\n",
       "                                              geometry  \n",
       "0    MULTILINESTRING ((-87.64791 41.86713, -87.6474...  \n",
       "1    MULTILINESTRING ((-87.62450 41.88833, -87.6249...  \n",
       "2    MULTILINESTRING ((-87.62326 41.83103, -87.6232...  \n",
       "3    MULTILINESTRING ((-87.59053 41.65577, -87.5906...  \n",
       "4    MULTILINESTRING ((-87.68883 41.96676, -87.6888...  \n",
       "..                                                 ...  \n",
       "122  MULTILINESTRING ((-87.62450 41.88833, -87.6249...  \n",
       "123  MULTILINESTRING ((-87.77390 41.87647, -87.7739...  \n",
       "124  MULTILINESTRING ((-87.77391 41.88008, -87.7731...  \n",
       "125  MULTILINESTRING ((-87.61699 41.86502, -87.6153...  \n",
       "126  MULTILINESTRING ((-87.63969 41.88187, -87.6411...  \n",
       "\n",
       "[127 rows x 6 columns]"
      ]
     },
     "execution_count": 14,
     "metadata": {},
     "output_type": "execute_result"
    }
   ],
   "source": [
    "bus_stops_df"
   ]
  },
  {
   "cell_type": "code",
   "execution_count": null,
   "metadata": {},
   "outputs": [],
   "source": [
    "#Plot the bus stops on a map\n",
    "fig, ax = plt.subplots(figsize=(10, 10))\n",
    "bus_stops_df.plot(ax=ax, color='blue', markersize=5)\n",
    "ax.set_title(\"Chicago Bus Stops\")\n"
   ]
  }
 ],
 "metadata": {
  "kernelspec": {
   "display_name": "base",
   "language": "python",
   "name": "python3"
  },
  "language_info": {
   "codemirror_mode": {
    "name": "ipython",
    "version": 3
   },
   "file_extension": ".py",
   "mimetype": "text/x-python",
   "name": "python",
   "nbconvert_exporter": "python",
   "pygments_lexer": "ipython3",
   "version": "3.11.7"
  }
 },
 "nbformat": 4,
 "nbformat_minor": 2
}
